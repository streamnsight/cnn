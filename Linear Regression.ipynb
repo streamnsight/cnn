{
 "cells": [
  {
   "cell_type": "code",
   "execution_count": 45,
   "metadata": {},
   "outputs": [],
   "source": [
    "import pandas as pd\n",
    "import numpy as np\n",
    "\n",
    "%matplotlib inline\n",
    "import matplotlib.pyplot as plt"
   ]
  },
  {
   "cell_type": "markdown",
   "metadata": {},
   "source": [
    "# Linear regression\n",
    "## Example: height vs. weight data"
   ]
  },
  {
   "cell_type": "code",
   "execution_count": 46,
   "metadata": {},
   "outputs": [],
   "source": [
    "df = pd.read_csv('height-weight.csv')"
   ]
  },
  {
   "cell_type": "code",
   "execution_count": 47,
   "metadata": {},
   "outputs": [
    {
     "data": {
      "text/html": [
       "<div>\n",
       "<style scoped>\n",
       "    .dataframe tbody tr th:only-of-type {\n",
       "        vertical-align: middle;\n",
       "    }\n",
       "\n",
       "    .dataframe tbody tr th {\n",
       "        vertical-align: top;\n",
       "    }\n",
       "\n",
       "    .dataframe thead th {\n",
       "        text-align: right;\n",
       "    }\n",
       "</style>\n",
       "<table border=\"1\" class=\"dataframe\">\n",
       "  <thead>\n",
       "    <tr style=\"text-align: right;\">\n",
       "      <th></th>\n",
       "      <th>HHX</th>\n",
       "      <th>FMX</th>\n",
       "      <th>FPX</th>\n",
       "      <th>SEX</th>\n",
       "      <th>BMI</th>\n",
       "      <th>SLEEP</th>\n",
       "      <th>educ</th>\n",
       "      <th>height</th>\n",
       "      <th>weight</th>\n",
       "    </tr>\n",
       "  </thead>\n",
       "  <tbody>\n",
       "    <tr>\n",
       "      <th>0</th>\n",
       "      <td>22627</td>\n",
       "      <td>1</td>\n",
       "      <td>2</td>\n",
       "      <td>1</td>\n",
       "      <td>35.30</td>\n",
       "      <td>8</td>\n",
       "      <td>16</td>\n",
       "      <td>76</td>\n",
       "      <td>290</td>\n",
       "    </tr>\n",
       "    <tr>\n",
       "      <th>1</th>\n",
       "      <td>7379</td>\n",
       "      <td>1</td>\n",
       "      <td>1</td>\n",
       "      <td>1</td>\n",
       "      <td>34.71</td>\n",
       "      <td>7</td>\n",
       "      <td>16</td>\n",
       "      <td>76</td>\n",
       "      <td>285</td>\n",
       "    </tr>\n",
       "    <tr>\n",
       "      <th>2</th>\n",
       "      <td>51659</td>\n",
       "      <td>1</td>\n",
       "      <td>1</td>\n",
       "      <td>1</td>\n",
       "      <td>34.71</td>\n",
       "      <td>6</td>\n",
       "      <td>12</td>\n",
       "      <td>76</td>\n",
       "      <td>285</td>\n",
       "    </tr>\n",
       "    <tr>\n",
       "      <th>3</th>\n",
       "      <td>28679</td>\n",
       "      <td>1</td>\n",
       "      <td>2</td>\n",
       "      <td>1</td>\n",
       "      <td>34.10</td>\n",
       "      <td>7</td>\n",
       "      <td>13</td>\n",
       "      <td>76</td>\n",
       "      <td>280</td>\n",
       "    </tr>\n",
       "    <tr>\n",
       "      <th>4</th>\n",
       "      <td>33982</td>\n",
       "      <td>1</td>\n",
       "      <td>1</td>\n",
       "      <td>1</td>\n",
       "      <td>34.10</td>\n",
       "      <td>7</td>\n",
       "      <td>16</td>\n",
       "      <td>76</td>\n",
       "      <td>280</td>\n",
       "    </tr>\n",
       "  </tbody>\n",
       "</table>\n",
       "</div>"
      ],
      "text/plain": [
       "     HHX  FMX  FPX  SEX    BMI  SLEEP  educ  height  weight\n",
       "0  22627    1    2    1  35.30      8    16      76     290\n",
       "1   7379    1    1    1  34.71      7    16      76     285\n",
       "2  51659    1    1    1  34.71      6    12      76     285\n",
       "3  28679    1    2    1  34.10      7    13      76     280\n",
       "4  33982    1    1    1  34.10      7    16      76     280"
      ]
     },
     "execution_count": 47,
     "metadata": {},
     "output_type": "execute_result"
    }
   ],
   "source": [
    "# height in inches (in), weight in pounds (lbs)\n",
    "df.head()"
   ]
  },
  {
   "cell_type": "code",
   "execution_count": 48,
   "metadata": {},
   "outputs": [],
   "source": [
    "X = np.array(df['height'].values)\n",
    "y = np.array(df['weight'].values)"
   ]
  },
  {
   "cell_type": "code",
   "execution_count": 49,
   "metadata": {},
   "outputs": [
    {
     "data": {
      "text/plain": [
       "array([290, 285, 285, ..., 102, 100, 100])"
      ]
     },
     "execution_count": 49,
     "metadata": {},
     "output_type": "execute_result"
    }
   ],
   "source": [
    "y"
   ]
  },
  {
   "cell_type": "code",
   "execution_count": 50,
   "metadata": {},
   "outputs": [
    {
     "data": {
      "text/plain": [
       "<matplotlib.collections.PathCollection at 0x1165b0208>"
      ]
     },
     "execution_count": 50,
     "metadata": {},
     "output_type": "execute_result"
    },
    {
     "data": {
      "image/png": "[encoded data removed]",
      "text/plain": [
       "<Figure size 432x288 with 1 Axes>"
      ]
     },
     "metadata": {
      "needs_background": "light"
     },
     "output_type": "display_data"
    }
   ],
   "source": [
    "# height vs. weight data as scatter plot\n",
    "plt.scatter(x=X, y=y)"
   ]
  },
  {
   "cell_type": "code",
   "execution_count": 52,
   "metadata": {},
   "outputs": [
    {
     "data": {
      "text/plain": [
       "array([   5.1706199 , -171.72995299])"
      ]
     },
     "execution_count": 52,
     "metadata": {},
     "output_type": "execute_result"
    }
   ],
   "source": [
    "# linear regression: fit with y = a*x + b (polynomial of degree 1)\n",
    "# a = model weight, or slope; b = bias or offset\n",
    "\n",
    "reg = np.polyfit(X, y, 1)\n",
    "reg"
   ]
  },
  {
   "cell_type": "markdown",
   "metadata": {},
   "source": [
    "## OK, that was easy, but how does it work?"
   ]
  },
  {
   "cell_type": "code",
   "execution_count": 53,
   "metadata": {},
   "outputs": [],
   "source": [
    "# initial linear fit values\n",
    "a = 1\n",
    "b = 0\n",
    "\n",
    "# linear function f(x) = ax + b\n",
    "def f(x):\n",
    "    return a * x + b\n"
   ]
  },
  {
   "cell_type": "code",
   "execution_count": 54,
   "metadata": {},
   "outputs": [],
   "source": [
    "learning_rate = 1e-2"
   ]
  },
  {
   "cell_type": "code",
   "execution_count": 56,
   "metadata": {},
   "outputs": [],
   "source": [
    "def fit(X, y, a, b):\n",
    "    y_pred = f(X)\n",
    "    loss = np.power(np.power(y_pred - y, 2).sum(), 0.5)\n",
    "    a = ((y - b) / X).mean()\n",
    "    grad_b = f(X.mean()) - a * X.mean()\n",
    "    b += learning_rate * grad_b\n",
    "    return loss, a, b"
   ]
  },
  {
   "cell_type": "code",
   "execution_count": 57,
   "metadata": {},
   "outputs": [],
   "source": [
    "loss, a, b = fit(X, y, a, b)"
   ]
  },
  {
   "cell_type": "code",
   "execution_count": 58,
   "metadata": {},
   "outputs": [
    {
     "data": {
      "text/plain": [
       "7377.088721169076"
      ]
     },
     "execution_count": 58,
     "metadata": {},
     "output_type": "execute_result"
    }
   ],
   "source": [
    "loss"
   ]
  },
  {
   "cell_type": "code",
   "execution_count": 59,
   "metadata": {},
   "outputs": [
    {
     "name": "stdout",
     "output_type": "stream",
     "text": [
      "2254.590250076391\n",
      "2251.203282207878\n",
      "2251.1681543215755\n",
      "2251.155822266544\n",
      "2251.1435953348446\n",
      "2251.1312479371923\n",
      "2251.118776620548\n",
      "2251.1061801265914\n",
      "2251.093457206758\n",
      "2251.080606600418\n",
      "2251.067627034541\n",
      "2251.0545172235798\n",
      "2251.0412758693446\n",
      "2251.0279016608893\n",
      "2251.0143932743836\n",
      "2251.000749372994\n",
      "2250.986968606759\n",
      "2250.973049612464\n",
      "2250.9589910135137\n",
      "2250.944791419808\n",
      "2250.9304494276116\n",
      "2250.915963619424\n",
      "2250.901332563851\n",
      "2250.8865548154718\n",
      "2250.8716289147046\n",
      "2250.856553387676\n",
      "2250.841326746082\n",
      "2250.825947487054\n",
      "2250.8104140930213\n",
      "2250.7947250315706\n",
      "2250.778878755307\n",
      "2250.7628737017126\n",
      "2250.746708293005\n",
      "2250.7303809359923\n",
      "2250.7138900219284\n",
      "2250.6972339263675\n",
      "2250.6804110090156\n",
      "2250.6634196135833\n",
      "2250.646258067635\n",
      "2250.6289246824376\n",
      "2250.6114177528093\n",
      "2250.593735556962\n",
      "2250.5758763563517\n",
      "2250.5578383955176\n",
      "2250.5396199019274\n",
      "2250.521219085815\n",
      "2250.5026341400253\n",
      "2250.4838632398455\n",
      "2250.4649045428478\n",
      "2250.445756188723\n",
      "2250.4264162991135\n",
      "2250.4068829774487\n",
      "2250.3871543087744\n",
      "2250.3672283595824\n",
      "2250.347103177643\n",
      "2250.326776791826\n",
      "2250.306247211933\n",
      "2250.285512428518\n",
      "2250.2645704127103\n",
      "2250.2434191160382\n",
      "2250.2220564702484\n",
      "2250.200480387123\n",
      "2250.1786887583\n",
      "2250.156679455085\n",
      "2250.13445032827\n",
      "2250.1119992079416\n",
      "2250.089323903296\n",
      "2250.0664222024484\n",
      "2250.0432918722386\n",
      "2250.0199306580403\n",
      "2249.996336283568\n",
      "2249.9725064506756\n",
      "2249.9484388391647\n",
      "2249.924131106581\n",
      "2249.8995808880168\n",
      "2249.874785795905\n",
      "2249.84974341982\n",
      "2249.824451326267\n",
      "2249.7989070584813\n",
      "2249.773108136214\n",
      "2249.7470520555257\n",
      "2249.720736288573\n",
      "2249.694158283396\n",
      "2249.667315463704\n",
      "2249.6402052286603\n",
      "2249.612824952659\n",
      "2249.585171985114\n",
      "2249.557243650229\n",
      "2249.5290372467816\n",
      "2249.500550047896\n",
      "2249.471779300818\n",
      "2249.4427222266863\n",
      "2249.413376020305\n",
      "2249.383737849912\n",
      "2249.3538048569476\n",
      "2249.323574155819\n",
      "2249.2930428336663\n",
      "2249.2622079501257\n",
      "2249.2310665370874\n",
      "2249.199615598461\n",
      "2249.167852109929\n",
      "2249.1357730187033\n",
      "2249.103375243283\n",
      "2249.0706556732052\n",
      "2249.0376111687983\n",
      "2249.004238560929\n",
      "2248.9705346507553\n",
      "2248.9364962094687\n",
      "2248.902119978042\n",
      "2248.867402666973\n",
      "2248.8323409560244\n",
      "2248.7969314939673\n",
      "2248.7611708983177\n",
      "2248.7250557550738\n",
      "2248.688582618453\n",
      "2248.651748010626\n",
      "2248.614548421447\n",
      "2248.5769803081885\n",
      "2248.5390400952674\n",
      "2248.5007241739745\n",
      "2248.4620289022014\n",
      "2248.422950604164\n",
      "2248.383485570127\n",
      "2248.3436300561257\n",
      "2248.303380283686\n",
      "2248.2627324395426\n",
      "2248.2216826753593\n",
      "2248.1802271074425\n",
      "2248.138361816456\n",
      "2248.096082847135\n",
      "2248.0533862079988\n",
      "2248.010267871058\n",
      "2247.9667237715294\n",
      "2247.9227498075356\n",
      "2247.87834183982\n",
      "2247.8334956914455\n",
      "2247.788207147501\n",
      "2247.742471954805\n",
      "2247.6962858216043\n",
      "2247.649644417275\n",
      "2247.6025433720242\n",
      "2247.554978276583\n",
      "2247.506944681907\n",
      "2247.4584380988695\n",
      "2247.409453997958\n",
      "2247.3599878089644\n",
      "2247.3100349206825\n",
      "2247.2595906805927\n",
      "2247.2086503945593\n",
      "2247.1572093265154\n",
      "2247.105262698152\n",
      "2247.052805688608\n",
      "2246.999833434155\n",
      "2246.946341027885\n",
      "2246.892323519396\n",
      "2246.8377759144746\n",
      "2246.782693174783\n",
      "2246.7270702175406\n",
      "2246.670901915209\n",
      "2246.6141830951715\n",
      "2246.5569085394195\n",
      "2246.4990729842298\n",
      "2246.44067111985\n",
      "2246.3816975901764\n",
      "2246.3221469924374\n",
      "2246.262013876873\n",
      "2246.2012927464148\n",
      "2246.139978056369\n",
      "2246.078064214094\n",
      "2246.015545578685\n",
      "2245.95241646065\n",
      "2245.888671121596\n",
      "2245.8243037739085\n",
      "2245.7593085804306\n",
      "2245.6936796541513\n",
      "2245.6274110578825\n",
      "2245.5604968039465\n",
      "2245.492930853859\n",
      "2245.4247071180134\n",
      "2245.355819455368\n",
      "2245.2862616731336\n",
      "2245.2160275264587\n",
      "2245.1451107181233\n",
      "2245.073504898224\n",
      "2245.0012036638714\n",
      "2244.928200558879\n",
      "2244.8544890734624\n",
      "2244.7800626439334\n",
      "2244.7049146523987\n",
      "2244.6290384264616\n",
      "2244.552427238926\n",
      "2244.475074307498\n",
      "2244.396972794496\n",
      "2244.31811580656\n",
      "2244.238496394363\n",
      "2244.1581075523277\n",
      "2244.076942218343\n",
      "2243.994993273487\n",
      "2243.9122535417496\n",
      "2243.8287157897626\n",
      "2243.7443727265277\n",
      "2243.659217003156\n",
      "2243.573241212602\n",
      "2243.486437889411\n",
      "2243.3987995094626\n",
      "2243.310318489725\n",
      "2243.2209871880104\n",
      "2243.1307979027356\n",
      "2243.0397428726883\n",
      "2242.9478142767985\n",
      "2242.8550042339143\n",
      "2242.7613048025864\n",
      "2242.6667079808535\n",
      "2242.571205706038\n",
      "2242.4747898545475\n",
      "2242.377452241679\n",
      "2242.279184621434\n",
      "2242.1799786863435\n",
      "2242.079826067289\n",
      "2241.9787183333447\n",
      "2241.876646991616\n",
      "2241.7736034870954\n",
      "2241.6695792025216\n",
      "2241.564565458246\n",
      "2241.458553512114\n",
      "2241.3515345593505\n",
      "2241.2434997324567\n",
      "2241.1344401011165\n",
      "2241.024346672115\n",
      "2240.913210389265\n",
      "2240.801022133345\n",
      "2240.687772722051\n",
      "2240.5734529099564\n",
      "2240.458053388487\n",
      "2240.341564785905\n",
      "2240.22397766731\n",
      "2240.1052825346515\n",
      "2239.9854698267504\n",
      "2239.864529919346\n",
      "2239.742453125142\n",
      "2239.6192296938843\n",
      "2239.494849812437\n",
      "2239.3693036048912\n",
      "2239.2425811326743\n",
      "2239.1146723946895\n",
      "2238.9855673274633\n",
      "2238.855255805316\n",
      "2238.723727640547\n",
      "2238.590972583643\n",
      "2238.456980323502\n",
      "2238.3217404876787\n",
      "2238.1852426426503\n",
      "2238.0474762941058\n",
      "2237.9084308872507\n",
      "2237.768095807143\n",
      "2237.6264603790423\n",
      "2237.4835138687945\n",
      "2237.3392454832256\n",
      "2237.1936443705767\n",
      "2237.0466996209516\n",
      "2236.8984002667994\n",
      "2236.748735283418\n",
      "2236.59769358949\n",
      "2236.4452640476475\n",
      "2236.29143546506\n",
      "2236.136196594061\n",
      "2235.979536132799\n",
      "2235.821442725923\n",
      "2235.661904965303\n",
      "2235.500911390781\n",
      "2235.338450490953\n",
      "2235.1745107039965\n",
      "2235.0090804185265\n",
      "2234.842147974488\n",
      "2234.673701664093\n",
      "2234.503729732794\n",
      "2234.3322203802927\n",
      "2234.1591617615986\n",
      "2233.9845419881244\n",
      "2233.808349128828\n",
      "2233.6305712113963\n",
      "2233.451196223477\n",
      "2233.2702121139555\n",
      "2233.0876067942845\n",
      "2232.903368139857\n",
      "2232.7174839914346\n",
      "2232.529942156624\n",
      "2232.3407304114126\n",
      "2232.1498365017524\n",
      "2231.957248145204\n",
      "2231.7629530326362\n",
      "2231.5669388299875\n",
      "2231.3691931800836\n",
      "2231.1697037045196\n",
      "2230.9684580056073\n",
      "2230.7654436683847\n",
      "2230.5606482626913\n",
      "2230.354059345317\n",
      "2230.1456644622162\n",
      "2229.9354511507945\n",
      "2229.723406942274\n",
      "2229.5095193641228\n",
      "2229.2937759425786\n",
      "2229.0761642052335\n",
      "2228.8566716837126\n",
      "2228.6352859164326\n",
      "2228.411994451442\n",
      "2228.186784849351\n",
      "2227.9596446863557\n",
      "2227.7305615573423\n",
      "2227.4995230790983\n",
      "2227.26651689361\n",
      "2227.0315306714638\n",
      "2226.7945521153456\n",
      "2226.5555689636444\n",
      "2226.314568994162\n",
      "2226.0715400279314\n",
      "2225.826469933145\n",
      "2225.5793466291957\n",
      "2225.330158090836\n",
      "2225.0788923524574\n",
      "2224.8255375124872\n",
      "2224.5700817379143\n",
      "2224.312513268942\n",
      "2224.0528204237694\n",
      "2223.7909916035105\n",
      "2223.5270152972466\n",
      "2223.260880087224\n",
      "2222.992574654188\n",
      "2222.722087782873\n",
      "2222.4494083676373\n",
      "2222.174525418253\n",
      "2221.897428065854\n",
      "2221.6181055690495\n",
      "2221.3365473201948\n",
      "2221.05274285184\n",
      "2220.766681843344\n",
      "2220.4783541276734\n",
      "2220.187749698378\n",
      "2219.894858716751\n",
      "2219.599671519185\n",
      "2219.3021786247145\n",
      "2219.002370742767\n",
      "2218.700238781108\n",
      "2218.395773854001\n",
      "2218.088967290578\n",
      "2217.779810643428\n",
      "2217.4682956974107\n",
      "2217.1544144786976\n",
      "2216.8381592640435\n",
      "2216.519522590303\n",
      "2216.1984972641862\n",
      "2215.87507637227\n",
      "2215.549253291257\n",
      "2215.221021698508\n",
      "2214.890375582829\n",
      "2214.557309255544\n",
      "2214.2218173618417\n",
      "2213.883894892407\n",
      "2213.543537195355\n",
      "2213.200739988452\n",
      "2212.8554993716552\n",
      "2212.5078118399583\n",
      "2212.157674296561\n",
      "2211.8050840663664\n",
      "2211.450038909816\n",
      "2211.0925370370624\n",
      "2210.732577122496\n",
      "2210.370158319636\n",
      "2210.005280276378\n",
      "2209.6379431506257\n",
      "2209.2681476263015\n",
      "2208.8958949297503\n",
      "2208.5211868465476\n",
      "2208.1440257387135\n",
      "2207.7644145623476\n",
      "2207.382356885695\n",
      "2206.997856907647\n",
      "2206.6109194766927\n",
      "2206.2215501103274\n",
      "2205.8297550149305\n",
      "2205.4355411061188\n",
      "2205.0389160295963\n",
      "2204.639888182496\n",
      "2204.238466735238\n",
      "2203.834661653909\n",
      "2203.4284837231753\n",
      "2203.0199445697444\n",
      "2202.6090566863795\n",
      "2202.195833456489\n",
      "2201.7802891792962\n",
      "2201.362439095606\n",
      "2200.942299414177\n",
      "2200.519887338719\n",
      "2200.095221095524\n",
      "2199.668319961745\n",
      "2199.2392042943416\n",
      "2198.807895559698\n",
      "2198.374416363938\n",
      "2197.9387904839427\n",
      "2197.501042899097\n",
      "2197.0611998237623\n",
      "2196.619288740518\n",
      "2196.17533843416\n",
      "2195.729379026489\n",
      "2195.281442011907\n",
      "2194.831560293826\n",
      "2194.3797682219174\n",
      "2193.9261016302194\n",
      "2193.470597876111\n",
      "2193.01329588018\n",
      "2192.5542361670064\n",
      "2192.093460906864\n",
      "2191.6310139583825\n",
      "2191.166940912165\n",
      "2190.7012891354075\n",
      "2190.2341078175145\n",
      "2189.7654480167525\n",
      "2189.295362707949\n",
      "2188.823906831268\n",
      "2188.351137342073\n",
      "2187.877113261914\n",
      "2187.401895730649\n",
      "2186.9255480597226\n",
      "2186.4481357866403\n",
      "2185.969726730641\n",
      "2185.4903910496128\n",
      "2185.0102012982525\n",
      "2184.529232487522\n",
      "2184.047562145401\n",
      "2183.565270378979\n",
      "2183.0824399379007\n",
      "2182.599156279205\n",
      "2182.1155076335654\n",
      "2181.6315850729793\n",
      "2181.147482579917\n",
      "2180.6632971179693\n",
      "2180.179128704013\n",
      "2179.695080481935\n",
      "2179.2112587979263\n",
      "2178.727773277397\n",
      "2178.244736903517\n",
      "2177.7622660974394\n",
      "2177.2804808002097\n",
      "2176.7995045564144\n",
      "2176.319464599585\n",
      "2175.8404919393956\n",
      "2175.3627214506823\n",
      "2174.8862919643198\n",
      "2174.4113463599792\n",
      "2173.9380316608135\n",
      "2173.4664991300865\n",
      "2172.9969043697915\n",
      "2172.529407421283\n",
      "2172.064172867963\n",
      "2171.6013699400455\n",
      "2171.1411726214437\n",
      "2170.6837597587996\n",
      "2170.2293151727085\n",
      "2169.778027771148\n",
      "2169.3300916651683\n",
      "2168.8857062868633\n",
      "2168.4450765096567\n",
      "2168.0084127709465\n",
      "2167.575931197129\n",
      "2167.1478537310463\n",
      "2166.724408261877\n",
      "2166.305828757525\n",
      "2165.8923553995096\n",
      "2165.484234720415\n",
      "2165.0817197439196\n",
      "2164.6850701274375\n",
      "2164.2945523073963\n",
      "2163.9104396472053\n",
      "2163.5330125879077\n",
      "2163.162558801583\n",
      "2162.7993733475014\n",
      "2162.4437588310675\n",
      "2162.0960255655846\n",
      "2161.7564917368577\n",
      "2161.425483570664\n",
      "2161.1033355031104\n",
      "2160.7903903539095\n",
      "2160.4869995025847\n",
      "2160.19352306763\n",
      "2159.9103300886413\n",
      "2159.637798711438\n",
      "2159.3763163761855\n",
      "2159.1262800085374\n",
      "2158.8880962138\n",
      "2158.662181474141\n",
      "2158.4489623488366\n",
      "2158.248875677571\n",
      "2158.062368786784\n",
      "2157.889899699073\n"
     ]
    },
    {
     "name": "stdout",
     "output_type": "stream",
     "text": [
      "2157.7319373456376\n",
      "2157.588961781774\n",
      "2157.4614644053927\n",
      "2157.3499481785707\n",
      "2157.254927852096\n",
      "2157.176930193008\n",
      "2157.1164942151036\n",
      "2157.0741714123765\n",
      "2157.0505259953716\n",
      "2157.046135130411\n",
      "2157.0615891816574\n"
     ]
    }
   ],
   "source": [
    "last_loss = loss\n",
    "while last_loss >= loss:\n",
    "    last_loss = loss\n",
    "    loss, a, b = fit(X, y, a, b)\n",
    "    print(loss)"
   ]
  },
  {
   "cell_type": "code",
   "execution_count": 60,
   "metadata": {},
   "outputs": [],
   "source": [
    "r = [a, b]"
   ]
  },
  {
   "cell_type": "code",
   "execution_count": 61,
   "metadata": {},
   "outputs": [
    {
     "data": {
      "text/plain": [
       "[5.179782016055303, -174.06910222474664]"
      ]
     },
     "execution_count": 61,
     "metadata": {},
     "output_type": "execute_result"
    }
   ],
   "source": [
    "r"
   ]
  },
  {
   "cell_type": "code",
   "execution_count": 62,
   "metadata": {},
   "outputs": [
    {
     "data": {
      "text/plain": [
       "[131.53803672251627, 219.5943309954564]"
      ]
     },
     "execution_count": 62,
     "metadata": {},
     "output_type": "execute_result"
    }
   ],
   "source": [
    "[f(X.min()), f(X.max())]"
   ]
  },
  {
   "cell_type": "markdown",
   "metadata": {},
   "source": [
    "### Prediction\n",
    "We can 'estimate' or 'predict' weight from height using the formula:\n",
    "estimated weight = 3.43 * height - 106"
   ]
  },
  {
   "cell_type": "code",
   "execution_count": 63,
   "metadata": {},
   "outputs": [
    {
     "data": {
      "image/png": "[encoded data removed]",
      "text/plain": [
       "<Figure size 432x288 with 1 Axes>"
      ]
     },
     "metadata": {
      "needs_background": "light"
     },
     "output_type": "display_data"
    }
   ],
   "source": [
    "# overlay the scatter + fitted line\n",
    "fig = plt.figure()\n",
    "ax = fig.subplots()\n",
    "ax.scatter(x=X, y=y)\n",
    "\n",
    "min_height = X.min()\n",
    "min_weight = reg[0] * min_height + reg[1]\n",
    "max_height = X.max()\n",
    "max_weight = reg[0] * max_height + reg[1]\n",
    "ax.plot([X.min(), X.max()], [min_weight, max_weight])\n",
    "ax.plot([X.min(), X.max()], [f(X.min()), f(X.max())])\n",
    "plt.show()"
   ]
  },
  {
   "cell_type": "markdown",
   "metadata": {},
   "source": [
    "## fittign error, R^2"
   ]
  },
  {
   "cell_type": "code",
   "execution_count": 35,
   "metadata": {},
   "outputs": [],
   "source": [
    "# predicted weight\n",
    "df['predicted_weight'] = r[0] * df['height'] + r[1]"
   ]
  },
  {
   "cell_type": "code",
   "execution_count": 36,
   "metadata": {},
   "outputs": [],
   "source": [
    "# total sum of squares"
   ]
  },
  {
   "cell_type": "code",
   "execution_count": 37,
   "metadata": {},
   "outputs": [],
   "source": [
    "df['dist_to_mean'] = df['weight'] - df['weight'].mean()"
   ]
  },
  {
   "cell_type": "code",
   "execution_count": 38,
   "metadata": {},
   "outputs": [],
   "source": [
    "SStotal = (df['dist_to_mean'] ** 2).sum()"
   ]
  },
  {
   "cell_type": "code",
   "execution_count": 39,
   "metadata": {},
   "outputs": [
    {
     "data": {
      "text/html": [
       "<div>\n",
       "<style scoped>\n",
       "    .dataframe tbody tr th:only-of-type {\n",
       "        vertical-align: middle;\n",
       "    }\n",
       "\n",
       "    .dataframe tbody tr th {\n",
       "        vertical-align: top;\n",
       "    }\n",
       "\n",
       "    .dataframe thead th {\n",
       "        text-align: right;\n",
       "    }\n",
       "</style>\n",
       "<table border=\"1\" class=\"dataframe\">\n",
       "  <thead>\n",
       "    <tr style=\"text-align: right;\">\n",
       "      <th></th>\n",
       "      <th>HHX</th>\n",
       "      <th>FMX</th>\n",
       "      <th>FPX</th>\n",
       "      <th>SEX</th>\n",
       "      <th>BMI</th>\n",
       "      <th>SLEEP</th>\n",
       "      <th>educ</th>\n",
       "      <th>height</th>\n",
       "      <th>weight</th>\n",
       "      <th>predicted_weight</th>\n",
       "      <th>dist_to_mean</th>\n",
       "    </tr>\n",
       "  </thead>\n",
       "  <tbody>\n",
       "    <tr>\n",
       "      <th>0</th>\n",
       "      <td>22627</td>\n",
       "      <td>1</td>\n",
       "      <td>2</td>\n",
       "      <td>1</td>\n",
       "      <td>35.30</td>\n",
       "      <td>8</td>\n",
       "      <td>16</td>\n",
       "      <td>76</td>\n",
       "      <td>290</td>\n",
       "      <td>219.594331</td>\n",
       "      <td>115.881352</td>\n",
       "    </tr>\n",
       "    <tr>\n",
       "      <th>1</th>\n",
       "      <td>7379</td>\n",
       "      <td>1</td>\n",
       "      <td>1</td>\n",
       "      <td>1</td>\n",
       "      <td>34.71</td>\n",
       "      <td>7</td>\n",
       "      <td>16</td>\n",
       "      <td>76</td>\n",
       "      <td>285</td>\n",
       "      <td>219.594331</td>\n",
       "      <td>110.881352</td>\n",
       "    </tr>\n",
       "    <tr>\n",
       "      <th>2</th>\n",
       "      <td>51659</td>\n",
       "      <td>1</td>\n",
       "      <td>1</td>\n",
       "      <td>1</td>\n",
       "      <td>34.71</td>\n",
       "      <td>6</td>\n",
       "      <td>12</td>\n",
       "      <td>76</td>\n",
       "      <td>285</td>\n",
       "      <td>219.594331</td>\n",
       "      <td>110.881352</td>\n",
       "    </tr>\n",
       "    <tr>\n",
       "      <th>3</th>\n",
       "      <td>28679</td>\n",
       "      <td>1</td>\n",
       "      <td>2</td>\n",
       "      <td>1</td>\n",
       "      <td>34.10</td>\n",
       "      <td>7</td>\n",
       "      <td>13</td>\n",
       "      <td>76</td>\n",
       "      <td>280</td>\n",
       "      <td>219.594331</td>\n",
       "      <td>105.881352</td>\n",
       "    </tr>\n",
       "    <tr>\n",
       "      <th>4</th>\n",
       "      <td>33982</td>\n",
       "      <td>1</td>\n",
       "      <td>1</td>\n",
       "      <td>1</td>\n",
       "      <td>34.10</td>\n",
       "      <td>7</td>\n",
       "      <td>16</td>\n",
       "      <td>76</td>\n",
       "      <td>280</td>\n",
       "      <td>219.594331</td>\n",
       "      <td>105.881352</td>\n",
       "    </tr>\n",
       "  </tbody>\n",
       "</table>\n",
       "</div>"
      ],
      "text/plain": [
       "     HHX  FMX  FPX  SEX    BMI  SLEEP  educ  height  weight  predicted_weight  \\\n",
       "0  22627    1    2    1  35.30      8    16      76     290        219.594331   \n",
       "1   7379    1    1    1  34.71      7    16      76     285        219.594331   \n",
       "2  51659    1    1    1  34.71      6    12      76     285        219.594331   \n",
       "3  28679    1    2    1  34.10      7    13      76     280        219.594331   \n",
       "4  33982    1    1    1  34.10      7    16      76     280        219.594331   \n",
       "\n",
       "   dist_to_mean  \n",
       "0    115.881352  \n",
       "1    110.881352  \n",
       "2    110.881352  \n",
       "3    105.881352  \n",
       "4    105.881352  "
      ]
     },
     "execution_count": 39,
     "metadata": {},
     "output_type": "execute_result"
    }
   ],
   "source": [
    "df.head()"
   ]
  },
  {
   "cell_type": "code",
   "execution_count": 40,
   "metadata": {},
   "outputs": [],
   "source": [
    "# residuals\n",
    "df['residual'] = df['predicted_weight'] - df['weight']"
   ]
  },
  {
   "cell_type": "code",
   "execution_count": 41,
   "metadata": {},
   "outputs": [],
   "source": [
    "# Total sum of residuals\n",
    "SSresidual = (df['residual'] ** 2).sum()"
   ]
  },
  {
   "cell_type": "markdown",
   "metadata": {},
   "source": [
    "### R^2 percentage"
   ]
  },
  {
   "cell_type": "code",
   "execution_count": 42,
   "metadata": {},
   "outputs": [],
   "source": [
    "# R^2 = 1 - SSresidual / SStotal"
   ]
  },
  {
   "cell_type": "code",
   "execution_count": 43,
   "metadata": {},
   "outputs": [],
   "source": [
    "R2 = 1 - (SSresidual / SStotal)"
   ]
  },
  {
   "cell_type": "code",
   "execution_count": 44,
   "metadata": {},
   "outputs": [
    {
     "data": {
      "text/plain": [
       "0.27046405356005976"
      ]
     },
     "execution_count": 44,
     "metadata": {},
     "output_type": "execute_result"
    }
   ],
   "source": [
    "R2"
   ]
  },
  {
   "cell_type": "markdown",
   "metadata": {},
   "source": [
    "# Logistic regression"
   ]
  },
  {
   "cell_type": "markdown",
   "metadata": {},
   "source": [
    "Let's now consider our output is binary, like over 130lbs, and under 130lbs"
   ]
  },
  {
   "cell_type": "code",
   "execution_count": 64,
   "metadata": {},
   "outputs": [],
   "source": [
    "df['over_130'] = 1.0 * (df['weight'] > 130)"
   ]
  },
  {
   "cell_type": "code",
   "execution_count": 68,
   "metadata": {},
   "outputs": [
    {
     "data": {
      "text/html": [
       "<div>\n",
       "<style scoped>\n",
       "    .dataframe tbody tr th:only-of-type {\n",
       "        vertical-align: middle;\n",
       "    }\n",
       "\n",
       "    .dataframe tbody tr th {\n",
       "        vertical-align: top;\n",
       "    }\n",
       "\n",
       "    .dataframe thead th {\n",
       "        text-align: right;\n",
       "    }\n",
       "</style>\n",
       "<table border=\"1\" class=\"dataframe\">\n",
       "  <thead>\n",
       "    <tr style=\"text-align: right;\">\n",
       "      <th></th>\n",
       "      <th>HHX</th>\n",
       "      <th>FMX</th>\n",
       "      <th>FPX</th>\n",
       "      <th>SEX</th>\n",
       "      <th>BMI</th>\n",
       "      <th>SLEEP</th>\n",
       "      <th>educ</th>\n",
       "      <th>height</th>\n",
       "      <th>weight</th>\n",
       "      <th>over_130</th>\n",
       "    </tr>\n",
       "  </thead>\n",
       "  <tbody>\n",
       "    <tr>\n",
       "      <th>0</th>\n",
       "      <td>22627</td>\n",
       "      <td>1</td>\n",
       "      <td>2</td>\n",
       "      <td>1</td>\n",
       "      <td>35.30</td>\n",
       "      <td>8</td>\n",
       "      <td>16</td>\n",
       "      <td>76</td>\n",
       "      <td>290</td>\n",
       "      <td>1.0</td>\n",
       "    </tr>\n",
       "    <tr>\n",
       "      <th>1</th>\n",
       "      <td>7379</td>\n",
       "      <td>1</td>\n",
       "      <td>1</td>\n",
       "      <td>1</td>\n",
       "      <td>34.71</td>\n",
       "      <td>7</td>\n",
       "      <td>16</td>\n",
       "      <td>76</td>\n",
       "      <td>285</td>\n",
       "      <td>1.0</td>\n",
       "    </tr>\n",
       "    <tr>\n",
       "      <th>2</th>\n",
       "      <td>51659</td>\n",
       "      <td>1</td>\n",
       "      <td>1</td>\n",
       "      <td>1</td>\n",
       "      <td>34.71</td>\n",
       "      <td>6</td>\n",
       "      <td>12</td>\n",
       "      <td>76</td>\n",
       "      <td>285</td>\n",
       "      <td>1.0</td>\n",
       "    </tr>\n",
       "    <tr>\n",
       "      <th>3</th>\n",
       "      <td>28679</td>\n",
       "      <td>1</td>\n",
       "      <td>2</td>\n",
       "      <td>1</td>\n",
       "      <td>34.10</td>\n",
       "      <td>7</td>\n",
       "      <td>13</td>\n",
       "      <td>76</td>\n",
       "      <td>280</td>\n",
       "      <td>1.0</td>\n",
       "    </tr>\n",
       "    <tr>\n",
       "      <th>4</th>\n",
       "      <td>33982</td>\n",
       "      <td>1</td>\n",
       "      <td>1</td>\n",
       "      <td>1</td>\n",
       "      <td>34.10</td>\n",
       "      <td>7</td>\n",
       "      <td>16</td>\n",
       "      <td>76</td>\n",
       "      <td>280</td>\n",
       "      <td>1.0</td>\n",
       "    </tr>\n",
       "    <tr>\n",
       "      <th>5</th>\n",
       "      <td>17425</td>\n",
       "      <td>1</td>\n",
       "      <td>1</td>\n",
       "      <td>1</td>\n",
       "      <td>33.48</td>\n",
       "      <td>7</td>\n",
       "      <td>21</td>\n",
       "      <td>76</td>\n",
       "      <td>275</td>\n",
       "      <td>1.0</td>\n",
       "    </tr>\n",
       "    <tr>\n",
       "      <th>6</th>\n",
       "      <td>42659</td>\n",
       "      <td>1</td>\n",
       "      <td>1</td>\n",
       "      <td>1</td>\n",
       "      <td>33.48</td>\n",
       "      <td>7</td>\n",
       "      <td>16</td>\n",
       "      <td>76</td>\n",
       "      <td>275</td>\n",
       "      <td>1.0</td>\n",
       "    </tr>\n",
       "    <tr>\n",
       "      <th>7</th>\n",
       "      <td>45487</td>\n",
       "      <td>1</td>\n",
       "      <td>1</td>\n",
       "      <td>1</td>\n",
       "      <td>33.48</td>\n",
       "      <td>7</td>\n",
       "      <td>14</td>\n",
       "      <td>76</td>\n",
       "      <td>275</td>\n",
       "      <td>1.0</td>\n",
       "    </tr>\n",
       "    <tr>\n",
       "      <th>8</th>\n",
       "      <td>40270</td>\n",
       "      <td>1</td>\n",
       "      <td>1</td>\n",
       "      <td>1</td>\n",
       "      <td>31.89</td>\n",
       "      <td>6</td>\n",
       "      <td>18</td>\n",
       "      <td>76</td>\n",
       "      <td>262</td>\n",
       "      <td>1.0</td>\n",
       "    </tr>\n",
       "    <tr>\n",
       "      <th>9</th>\n",
       "      <td>4242</td>\n",
       "      <td>1</td>\n",
       "      <td>1</td>\n",
       "      <td>1</td>\n",
       "      <td>31.65</td>\n",
       "      <td>7</td>\n",
       "      <td>13</td>\n",
       "      <td>76</td>\n",
       "      <td>260</td>\n",
       "      <td>1.0</td>\n",
       "    </tr>\n",
       "  </tbody>\n",
       "</table>\n",
       "</div>"
      ],
      "text/plain": [
       "     HHX  FMX  FPX  SEX    BMI  SLEEP  educ  height  weight  over_130\n",
       "0  22627    1    2    1  35.30      8    16      76     290       1.0\n",
       "1   7379    1    1    1  34.71      7    16      76     285       1.0\n",
       "2  51659    1    1    1  34.71      6    12      76     285       1.0\n",
       "3  28679    1    2    1  34.10      7    13      76     280       1.0\n",
       "4  33982    1    1    1  34.10      7    16      76     280       1.0\n",
       "5  17425    1    1    1  33.48      7    21      76     275       1.0\n",
       "6  42659    1    1    1  33.48      7    16      76     275       1.0\n",
       "7  45487    1    1    1  33.48      7    14      76     275       1.0\n",
       "8  40270    1    1    1  31.89      6    18      76     262       1.0\n",
       "9   4242    1    1    1  31.65      7    13      76     260       1.0"
      ]
     },
     "execution_count": 68,
     "metadata": {},
     "output_type": "execute_result"
    }
   ],
   "source": [
    "df.head(10)"
   ]
  },
  {
   "cell_type": "code",
   "execution_count": 69,
   "metadata": {},
   "outputs": [
    {
     "data": {
      "text/plain": [
       "<matplotlib.collections.PathCollection at 0x116b254a8>"
      ]
     },
     "execution_count": 69,
     "metadata": {},
     "output_type": "execute_result"
    },
    {
     "data": {
      "image/png": "[encoded data removed]",
      "text/plain": [
       "<Figure size 432x288 with 1 Axes>"
      ]
     },
     "metadata": {
      "needs_background": "light"
     },
     "output_type": "display_data"
    }
   ],
   "source": [
    "# plot as scatter plot\n",
    "plt.scatter(x=df['height'], y=df['over_130'])"
   ]
  },
  {
   "cell_type": "markdown",
   "metadata": {},
   "source": [
    "### Logistic regression attempts to fit the data set X(continuous) to Y (Binary) using a sigmoid function"
   ]
  },
  {
   "cell_type": "code",
   "execution_count": 70,
   "metadata": {},
   "outputs": [],
   "source": [
    "# helpers to fit the sigmoid\n",
    "import scipy.optimize\n",
    "\n",
    "\n",
    "# basic sigmoid is of the form y = 1 / ( 1 + e^-x)\n",
    "# here we add parameters to adjust offset (x0, y0), slope k, \n",
    "def sigmoid(p, x):\n",
    "    x0, y0, c, k = p\n",
    "#     y = c / (1.0 + np.exp(-k * (x - x0))) + y0\n",
    "# we know y0 is 0, and c is 1, so we'll hard code those\n",
    "    y = 1.0 / (1.0 + np.exp(-k * (x - x0)))\n",
    "    return y\n",
    "\n",
    "def residuals(p, x, y):\n",
    "    return y - sigmoid(p, x)"
   ]
  },
  {
   "cell_type": "code",
   "execution_count": 71,
   "metadata": {},
   "outputs": [],
   "source": [
    "# initial guess for the sigmoid params p\n",
    "p_guess = (np.median(df['height']), np.median(df['over_130']), 0.5, 1.0)\n",
    "p, _, _, _, _ = scipy.optimize.leastsq(residuals, \n",
    "                                       p_guess,\n",
    "                                       args=(df['height'], df['over_130']),\n",
    "                                       full_output=True)\n"
   ]
  },
  {
   "cell_type": "code",
   "execution_count": 72,
   "metadata": {},
   "outputs": [
    {
     "data": {
      "text/plain": [
       "array([59.24643031,  1.        ,  0.5       ,  0.27979972])"
      ]
     },
     "execution_count": 72,
     "metadata": {},
     "output_type": "execute_result"
    }
   ],
   "source": [
    "p"
   ]
  },
  {
   "cell_type": "code",
   "execution_count": 23,
   "metadata": {},
   "outputs": [
    {
     "data": {
      "image/png": "[encoded data removed]",
      "text/plain": [
       "<Figure size 432x288 with 1 Axes>"
      ]
     },
     "metadata": {
      "needs_background": "light"
     },
     "output_type": "display_data"
    }
   ],
   "source": [
    "fig = plt.figure()\n",
    "ax = fig.subplots()\n",
    "ax.scatter(x=df['height'], y=df['over_130'])\n",
    "\n",
    "min_height = df['height'].min()\n",
    "max_height = df['height'].max()\n",
    "xp = np.linspace(min_height, max_height, 1500)\n",
    "fit = sigmoid(p, xp)\n",
    "ax.plot(xp, fit)\n",
    "plt.show()"
   ]
  },
  {
   "cell_type": "markdown",
   "metadata": {},
   "source": [
    "## This gives a probability (between 0 and 1) that for a given height, the weight is above 130lbs"
   ]
  },
  {
   "cell_type": "code",
   "execution_count": null,
   "metadata": {},
   "outputs": [],
   "source": []
  },
  {
   "cell_type": "code",
   "execution_count": null,
   "metadata": {},
   "outputs": [],
   "source": []
  }
 ],
 "metadata": {
  "kernelspec": {
   "display_name": "Python 3",
   "language": "python",
   "name": "python3"
  },
  "language_info": {
   "codemirror_mode": {
    "name": "ipython",
    "version": 3
   },
   "file_extension": ".py",
   "mimetype": "text/x-python",
   "name": "python",
   "nbconvert_exporter": "python",
   "pygments_lexer": "ipython3",
   "version": "3.7.3"
  }
 },
 "nbformat": 4,
 "nbformat_minor": 2
}
